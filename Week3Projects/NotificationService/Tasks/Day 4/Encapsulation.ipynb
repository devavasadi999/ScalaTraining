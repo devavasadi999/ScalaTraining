{
 "cells": [
  {
   "cell_type": "markdown",
   "metadata": {},
   "source": [
    "### Encapsulation\n",
    "* Class\n",
    "* Object\n",
    "* Instance Variable\n",
    "* Constructor"
   ]
  },
  {
   "cell_type": "code",
   "execution_count": 6,
   "metadata": {},
   "outputs": [
    {
     "name": "stdout",
     "output_type": "stream",
     "text": [
      "Rahul\n",
      "24\n",
      "bob\n",
      "Toby 34\n"
     ]
    },
    {
     "data": {
      "text/plain": [
       "defined \u001b[32mclass\u001b[39m \u001b[36mPerson\u001b[39m\n",
       "\u001b[36mp\u001b[39m: \u001b[32mPerson\u001b[39m = ammonite.$sess.cmd6$Helper$Person@5e2ec4fb\n",
       "\u001b[36mp2\u001b[39m: \u001b[32mPerson\u001b[39m = ammonite.$sess.cmd6$Helper$Person@37e72786"
      ]
     },
     "execution_count": 6,
     "metadata": {},
     "output_type": "execute_result"
    }
   ],
   "source": [
    "// Class and Object in encapsulation\n",
    "\n",
    "// class declaration\n",
    "// Person(name , age) is the constructor\n",
    "// name and age are instance variables -- separate copy for each instantiated object\n",
    "class Person (private var name: String, private var age: Int) {\n",
    "    // auxiliary constructor -- additional ways to create instances using different sets of parameters\n",
    "    def this(name: String) = this(name, 34)\n",
    "\n",
    "    def getName: String = name\n",
    "    def getAge: Int = age\n",
    "    def setName(newName: String): Unit = {\n",
    "        name = newName\n",
    "    }\n",
    "}\n",
    "\n",
    "// object instantiation\n",
    "val p = new Person(\"Rahul\", 24)\n",
    "println(p.getName)\n",
    "println(p.getAge)\n",
    "\n",
    "p.setName(\"bob\")\n",
    "println(p.getName)\n",
    "val p2 = new Person(\"Toby\") // using the auxiliary constructor\n",
    "println(s\"${p2.getName} ${p2.getAge}\")"
   ]
  }
 ],
 "metadata": {
  "kernelspec": {
   "display_name": "Scala",
   "language": "scala",
   "name": "scala"
  },
  "language_info": {
   "codemirror_mode": "text/x-scala",
   "file_extension": ".sc",
   "mimetype": "text/x-scala",
   "name": "scala",
   "nbconvert_exporter": "script",
   "version": "2.13.14"
  }
 },
 "nbformat": 4,
 "nbformat_minor": 2
}
