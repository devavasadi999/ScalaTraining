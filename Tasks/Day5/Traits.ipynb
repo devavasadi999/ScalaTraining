{
 "cells": [
  {
   "cell_type": "markdown",
   "metadata": {},
   "source": [
    "### Traits\n",
    "* Used for sharing and resusing code.\n",
    "* Similar to interfaces in Java but more powerful because they can contain both abstract and concrete methods.\n",
    "* Lambda expressions can be used for traits but not for abstract classes"
   ]
  },
  {
   "cell_type": "markdown",
   "metadata": {},
   "source": [
    "#### Defining abstract and concrete methods"
   ]
  },
  {
   "cell_type": "code",
   "execution_count": 6,
   "metadata": {},
   "outputs": [
    {
     "name": "stdout",
     "output_type": "stream",
     "text": [
      "Hi Bob\n"
     ]
    },
    {
     "data": {
      "text/plain": [
       "defined \u001b[32mtrait\u001b[39m \u001b[36mGreeter\u001b[39m\n",
       "\u001b[36ma\u001b[39m: \u001b[32mGreeter\u001b[39m = ammonite.$sess.cmd6$Helper$$anonfun$1@422a1baf"
      ]
     },
     "execution_count": 6,
     "metadata": {},
     "output_type": "execute_result"
    }
   ],
   "source": [
    "trait Greeter {\n",
    "    def greet(name: String): Unit // abstract method\n",
    "    def defaultGreet(): Unit = println(\"Hello!\")\n",
    "}\n",
    "\n",
    "val a: Greeter = (name) => println(s\"Hi $name\") // using lambda expression to instantiate\n",
    "a.greet(\"Bob\")"
   ]
  },
  {
   "cell_type": "markdown",
   "metadata": {},
   "source": [
    "#### Multiple inheritance with Traits\n",
    "Unlike for classes, scala allows us to mix in multiple traits.\n",
    "A trait or a class can extend more than one traits."
   ]
  },
  {
   "cell_type": "code",
   "execution_count": 8,
   "metadata": {},
   "outputs": [
    {
     "data": {
      "text/plain": [
       "defined \u001b[32mtrait\u001b[39m \u001b[36mA\u001b[39m\n",
       "defined \u001b[32mtrait\u001b[39m \u001b[36mB\u001b[39m\n",
       "defined \u001b[32mtrait\u001b[39m \u001b[36mC\u001b[39m\n",
       "defined \u001b[32mclass\u001b[39m \u001b[36mD\u001b[39m"
      ]
     },
     "execution_count": 8,
     "metadata": {},
     "output_type": "execute_result"
    }
   ],
   "source": [
    "trait A {\n",
    "    def sayA(): Unit\n",
    "}\n",
    "\n",
    "trait B extends A {\n",
    "    def sayB(): Unit\n",
    "}\n",
    "\n",
    "trait C {\n",
    "    def sayC(): Unit\n",
    "}\n",
    "\n",
    "abstract class D extends B with C"
   ]
  }
 ],
 "metadata": {
  "kernelspec": {
   "display_name": "Scala",
   "language": "scala",
   "name": "scala"
  },
  "language_info": {
   "codemirror_mode": "text/x-scala",
   "file_extension": ".sc",
   "mimetype": "text/x-scala",
   "name": "scala",
   "nbconvert_exporter": "script",
   "version": "2.13.14"
  }
 },
 "nbformat": 4,
 "nbformat_minor": 2
}
