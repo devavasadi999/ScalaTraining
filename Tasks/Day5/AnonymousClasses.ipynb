{
 "cells": [
  {
   "cell_type": "markdown",
   "metadata": {},
   "source": [
    "### Anonymous Classes\n",
    "Created to instantiate a new class with specific method implementations without formally defining a subclass. The class will have no name. So the same class can't be accessed again."
   ]
  },
  {
   "cell_type": "code",
   "execution_count": 6,
   "metadata": {},
   "outputs": [
    {
     "name": "stdout",
     "output_type": "stream",
     "text": [
      "Dog!!!\n",
      "Cat!!\n"
     ]
    },
    {
     "data": {
      "text/plain": [
       "defined \u001b[32mclass\u001b[39m \u001b[36mAnimal\u001b[39m\n",
       "\u001b[36mdog\u001b[39m: \u001b[32mAnimal\u001b[39m = ammonite.$sess.cmd6$Helper$$anon$1@6cb9c3fc\n",
       "\u001b[36mcat\u001b[39m: \u001b[32mAnimal\u001b[39m = ammonite.$sess.cmd6$Helper$$anonfun$1@500e3167"
      ]
     },
     "execution_count": 6,
     "metadata": {},
     "output_type": "execute_result"
    }
   ],
   "source": [
    "abstract class Animal {\n",
    "    // abstract method\n",
    "    def sound(): String\n",
    "\n",
    "    // concrete method\n",
    "    def greet(): String = \"Hi!!\"\n",
    "}\n",
    "\n",
    "val dog = new Animal {\n",
    "    def sound(): String = \"Dog!!!\"\n",
    "}\n",
    "\n",
    "println(dog.sound())\n",
    "\n",
    "val cat: Animal = () => \"Cat!!\"\n",
    "println(cat.sound())"
   ]
  }
 ],
 "metadata": {
  "kernelspec": {
   "display_name": "Scala",
   "language": "scala",
   "name": "scala"
  },
  "language_info": {
   "codemirror_mode": "text/x-scala",
   "file_extension": ".sc",
   "mimetype": "text/x-scala",
   "name": "scala",
   "nbconvert_exporter": "script",
   "version": "2.13.14"
  }
 },
 "nbformat": 4,
 "nbformat_minor": 2
}
