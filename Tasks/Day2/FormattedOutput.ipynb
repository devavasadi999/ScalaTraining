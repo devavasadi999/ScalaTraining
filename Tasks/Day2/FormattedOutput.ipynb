{
 "cells": [
  {
   "cell_type": "markdown",
   "metadata": {},
   "source": [
    "### Formatted Output Demonstration\n",
    "* Using s interpolator\n",
    "* Using f interpolator\n",
    "* Using raw interpolator"
   ]
  },
  {
   "cell_type": "code",
   "execution_count": 11,
   "metadata": {},
   "outputs": [
    {
     "name": "stdout",
     "output_type": "stream",
     "text": [
      "55 56\n",
      "$23.45\n",
      "Num1\\nNum2\n"
     ]
    },
    {
     "data": {
      "text/plain": [
       "\u001b[36mnum\u001b[39m: \u001b[32mInt\u001b[39m = \u001b[32m55\u001b[39m\n",
       "\u001b[36mdoubleVal\u001b[39m: \u001b[32mDouble\u001b[39m = \u001b[32m23.4532\u001b[39m"
      ]
     },
     "execution_count": 11,
     "metadata": {},
     "output_type": "execute_result"
    }
   ],
   "source": [
    "//Using s interpolator\n",
    "val num: Int = 55\n",
    "println(s\"$num ${num + 1}\")\n",
    "\n",
    "//Using f interpolator\n",
    "val doubleVal: Double  = 23.4532\n",
    "println(f\"$$${doubleVal}%.2f\")\n",
    "\n",
    "//Using raw interpolator to ignore escape sequences\n",
    "println(raw\"Num1\\nNum2\")"
   ]
  }
 ],
 "metadata": {
  "kernelspec": {
   "display_name": "Scala",
   "language": "scala",
   "name": "scala"
  },
  "language_info": {
   "codemirror_mode": "text/x-scala",
   "file_extension": ".sc",
   "mimetype": "text/x-scala",
   "name": "scala",
   "nbconvert_exporter": "script",
   "version": "2.13.14"
  }
 },
 "nbformat": 4,
 "nbformat_minor": 2
}
