{
 "cells": [
  {
   "cell_type": "markdown",
   "metadata": {},
   "source": [
    "### Data types in Scala demonstration\n",
    " * Byte\n",
    " * Short\n",
    " * Int\n",
    " * Long\n",
    " * Float\n",
    " * Double\n",
    " * BigInt\n",
    " * BigDecimal\n",
    " * Boolean\n",
    " * Char\n",
    " * String\n",
    " * Unit\n",
    " * Null\n",
    " * Nothing\n",
    " * Any\n",
    " * AnyVal\n",
    " * AnyRef\n",
    " * Option\n",
    " * Either"
   ]
  },
  {
   "cell_type": "code",
   "execution_count": 1,
   "metadata": {},
   "outputs": [
    {
     "name": "stdout",
     "output_type": "stream",
     "text": [
      "100\n",
      "32000\n",
      "2147483647\n",
      "9223372036854775807\n",
      "75.487\n",
      "59.9209838\n",
      "848772929488298293\n",
      "43.857382399492\n",
      "true\n",
      "T\n",
      "Hello Scala\n",
      "()\n",
      "null\n",
      "75\n",
      "Hi Scala\n",
      "74\n",
      "Some(8745)\n",
      "Right(100)"
     ]
    },
    {
     "data": {
      "text/plain": [
       "\u001b[36mbyteValue\u001b[39m: \u001b[32mByte\u001b[39m = \u001b[32m100\u001b[39m\n",
       "\u001b[36mshortValue\u001b[39m: \u001b[32mShort\u001b[39m = \u001b[32m32000\u001b[39m\n",
       "\u001b[36mintValue\u001b[39m: \u001b[32mInt\u001b[39m = \u001b[32m2147483647\u001b[39m\n",
       "\u001b[36mlongValue\u001b[39m: \u001b[32mLong\u001b[39m = \u001b[32m9223372036854775807L\u001b[39m\n",
       "\u001b[36mfloatValue\u001b[39m: \u001b[32mFloat\u001b[39m = \u001b[32m75.487F\u001b[39m\n",
       "\u001b[36mdoubleValue\u001b[39m: \u001b[32mDouble\u001b[39m = \u001b[32m59.9209838\u001b[39m\n",
       "\u001b[36mbigIntValue\u001b[39m: \u001b[32mBigInt\u001b[39m = 848772929488298293\n",
       "\u001b[36mbigDecimalValue\u001b[39m: \u001b[32mBigDecimal\u001b[39m = 43.857382399492\n",
       "\u001b[36mbooleanValue\u001b[39m: \u001b[32mBoolean\u001b[39m = \u001b[32mtrue\u001b[39m\n",
       "\u001b[36mcharValue\u001b[39m: \u001b[32mChar\u001b[39m = \u001b[32m'T'\u001b[39m\n",
       "\u001b[36mstringValue\u001b[39m: \u001b[32mString\u001b[39m = \u001b[32m\"Hello Scala\"\u001b[39m\n",
       "\u001b[36mnullValue\u001b[39m: \u001b[32mNull\u001b[39m = \u001b[32mnull\u001b[39m\n",
       "defined \u001b[32mfunction\u001b[39m \u001b[36malwaysFails\u001b[39m\n",
       "\u001b[36manyValue\u001b[39m: \u001b[32mAnyVal\u001b[39m = \u001b[32m75\u001b[39m\n",
       "\u001b[36manyReference\u001b[39m: \u001b[32mAnyRef\u001b[39m = \u001b[32m\"Hi Scala\"\u001b[39m\n",
       "\u001b[36many\u001b[39m: \u001b[32mAny\u001b[39m = \u001b[32m74\u001b[39m\n",
       "\u001b[36moptionValue\u001b[39m: \u001b[32mOption\u001b[39m[\u001b[32mInt\u001b[39m] = \u001b[33mSome\u001b[39m(value = \u001b[32m8745\u001b[39m)\n",
       "\u001b[36meitherValue\u001b[39m: \u001b[32mEither\u001b[39m[\u001b[32mString\u001b[39m, \u001b[32mInt\u001b[39m] = \u001b[33mRight\u001b[39m(value = \u001b[32m100\u001b[39m)"
      ]
     },
     "execution_count": 1,
     "metadata": {},
     "output_type": "execute_result"
    }
   ],
   "source": [
    "val byteValue: Byte = 100\n",
    "val shortValue: Short = 32000\n",
    "val intValue: Int = 2147483647\n",
    "val longValue: Long = 9223372036854775807L\n",
    "val floatValue: Float = 75.487f\n",
    "val doubleValue: Double = 59.9209838\n",
    "val bigIntValue: BigInt = BigInt(\"848772929488298293\")\n",
    "val bigDecimalValue: BigDecimal = BigDecimal(\"43.857382399492\")\n",
    "val booleanValue: Boolean = true\n",
    "val charValue: Char = 'T'\n",
    "val stringValue: String = \"Hello Scala\"\n",
    "val unitValue: Unit = ()\n",
    "val nullValue: Null = null\n",
    "\n",
    "def alwaysFails(): Nothing = {\n",
    "    throw new RuntimeException(\"Exception\")\n",
    "}\n",
    "\n",
    "val anyValue: AnyVal = 75\n",
    "val anyReference: AnyRef = \"Hi Scala\"\n",
    "val any: Any = 74\n",
    "val optionValue: Option[Int] = Some(8745)\n",
    "val eitherValue: Either[String, Int] = Right(100)\n",
    "\n",
    "println(byteValue)\n",
    "println(shortValue)\n",
    "println(intValue)\n",
    "println(longValue)\n",
    "println(floatValue)\n",
    "println(doubleValue)\n",
    "println(bigIntValue)\n",
    "println(bigDecimalValue)\n",
    "println(booleanValue)\n",
    "println(charValue)\n",
    "println(stringValue)\n",
    "println(unitValue)\n",
    "println(nullValue)\n",
    "println(anyValue)\n",
    "println(anyReference)\n",
    "println(any)\n",
    "println(optionValue)\n",
    "print(eitherValue)"
   ]
  }
 ],
 "metadata": {
  "kernelspec": {
   "display_name": "Scala",
   "language": "scala",
   "name": "scala"
  },
  "language_info": {
   "codemirror_mode": "text/x-scala",
   "file_extension": ".sc",
   "mimetype": "text/x-scala",
   "name": "scala",
   "nbconvert_exporter": "script",
   "version": "2.13.14"
  }
 },
 "nbformat": 4,
 "nbformat_minor": 2
}
