{
 "cells": [
  {
   "cell_type": "markdown",
   "metadata": {},
   "source": [
    "### Single Dimensional Arrays\n",
    "* Creation\n",
    "* Access and Modification\n",
    "* Operations\n",
    "* Transformations\n",
    "* Conversion to Other Collections"
   ]
  },
  {
   "cell_type": "code",
   "execution_count": 2,
   "metadata": {},
   "outputs": [
    {
     "name": "stdout",
     "output_type": "stream",
     "text": [
      "1, 2, 3\n",
      "0, 0, 0\n",
      "22, 22, 22\n",
      "2, 3, 4, 5\n",
      "0, 3, 6\n",
      "3\n",
      "9\n",
      "3\n",
      "5 3 9 \n",
      "5 3 9 \n",
      "3, 9\n",
      "25, 9, 81\n",
      "17\n",
      "9 3\n",
      "3, 5, 9\n",
      "9, 3, 5\n",
      "2, 3, 5, 6\n",
      "List(5, 3, 9)\n",
      "Set(5, 3, 9)\n",
      "5, 3, 9\n"
     ]
    },
    {
     "data": {
      "text/plain": [
       "\u001b[36marray\u001b[39m: \u001b[32mArray\u001b[39m[\u001b[32mInt\u001b[39m] = \u001b[33mArray\u001b[39m(\u001b[32m5\u001b[39m, \u001b[32m3\u001b[39m, \u001b[32m9\u001b[39m)"
      ]
     },
     "execution_count": 2,
     "metadata": {},
     "output_type": "execute_result"
    }
   ],
   "source": [
    "// Creation:\n",
    "\n",
    "//using constructor\n",
    "println(Array(1, 2, 3).mkString(\", \"))\n",
    "\n",
    "//using new Array\n",
    "println(new Array[Int](3).mkString(\", \"))\n",
    "\n",
    "//using Array.fill\n",
    "println(Array.fill(3)(22).mkString(\", \"))\n",
    "\n",
    "//using Array.range\n",
    "println(Array.range(2, 6).mkString(\", \"))\n",
    "\n",
    "//using Array.tabulate\n",
    "println(Array.tabulate(3)(i => i*3).mkString(\", \"))\n",
    "\n",
    "//Accessing Elements\n",
    "val array: Array[Int] = Array(5, 3, 7)\n",
    "println(array(1))\n",
    "\n",
    "//Modifying Elements\n",
    "array(2) = 9\n",
    "println(array(2))\n",
    "\n",
    "//Operations\n",
    "\n",
    "//length of array\n",
    "println(array.length)\n",
    "\n",
    "//loop through array\n",
    "\n",
    "//using for loop\n",
    "for(num <- array) {\n",
    "    print(s\"$num \")\n",
    "}\n",
    "println()\n",
    "\n",
    "//using foreach\n",
    "array.foreach(num => print(s\"$num \"))\n",
    "println()\n",
    "\n",
    "//Filtering elements\n",
    "println(array.filter(_%3 == 0).mkString(\", \"))\n",
    "\n",
    "//Mapping elements\n",
    "println(array.map(num => num * num).mkString(\", \"))\n",
    "\n",
    "//Summing elements\n",
    "println(array.sum)\n",
    "\n",
    "//Maximum and Minimum\n",
    "println(s\"${array.max} ${array.min}\")\n",
    "\n",
    "//Transformations\n",
    "\n",
    "//Sorting\n",
    "println(array.sorted.mkString(\", \"))\n",
    "\n",
    "//Reversing\n",
    "println(array.reverse.mkString(\", \"))\n",
    "\n",
    "//Flattening Arrays\n",
    "println(Array(Array(2, 3), Array(5, 6)).flatten.mkString(\", \"))\n",
    "\n",
    "//Conversion to Other Collections\n",
    "\n",
    "// conversion to list\n",
    "println(array.toList)\n",
    "\n",
    "// conversion to set\n",
    "println(array.toSet)\n",
    "\n",
    "// conversion to string\n",
    "println(array.mkString(\", \"))"
   ]
  }
 ],
 "metadata": {
  "kernelspec": {
   "display_name": "Scala",
   "language": "scala",
   "name": "scala"
  },
  "language_info": {
   "codemirror_mode": "text/x-scala",
   "file_extension": ".sc",
   "mimetype": "text/x-scala",
   "name": "scala",
   "nbconvert_exporter": "script",
   "version": "2.13.14"
  }
 },
 "nbformat": 4,
 "nbformat_minor": 2
}
