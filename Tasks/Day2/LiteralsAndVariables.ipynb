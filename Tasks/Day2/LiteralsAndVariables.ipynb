{
 "cells": [
  {
   "cell_type": "markdown",
   "metadata": {},
   "source": [
    "## Literals And Variables in Scala\n",
    "\n",
    "#### Types of Literals:\n",
    "* Integer Literals\n",
    "* Floating Point Literals\n",
    "* Boolean Literals\n",
    "* Character Literals\n",
    "* String Literals\n",
    "* Symbol Literals\n",
    "* Null Literal\n",
    "* Unit Literal\n",
    "\n",
    "#### Types of Variables:\n",
    "* Immutable Variable\n",
    "* Mutable Variable\n",
    "* Lazy Variable"
   ]
  },
  {
   "cell_type": "code",
   "execution_count": 2,
   "metadata": {},
   "outputs": [
    {
     "data": {
      "text/html": [
       "<div class=\"jp-RenderedText\">\n",
       "<pre><code><span style=\"color: rgb(0, 187, 187)\"><span class=\"ansi-cyan-fg\">intLiteral</span></span>: <span style=\"color: rgb(0, 187, 0)\"><span class=\"ansi-green-fg\">Int</span></span> = <span style=\"color: rgb(0, 187, 0)\"><span class=\"ansi-green-fg\">6747</span></span>\n",
       "<span style=\"color: rgb(0, 187, 187)\"><span class=\"ansi-cyan-fg\">longLiteral</span></span>: <span style=\"color: rgb(0, 187, 0)\"><span class=\"ansi-green-fg\">Long</span></span> = <span style=\"color: rgb(0, 187, 0)\"><span class=\"ansi-green-fg\">758939932L</span></span>\n",
       "<span style=\"color: rgb(0, 187, 187)\"><span class=\"ansi-cyan-fg\">floatLiteral</span></span>: <span style=\"color: rgb(0, 187, 0)\"><span class=\"ansi-green-fg\">Float</span></span> = <span style=\"color: rgb(0, 187, 0)\"><span class=\"ansi-green-fg\">773.43F</span></span>\n",
       "<span style=\"color: rgb(0, 187, 187)\"><span class=\"ansi-cyan-fg\">doubleLiteral</span></span>: <span style=\"color: rgb(0, 187, 0)\"><span class=\"ansi-green-fg\">Double</span></span> = <span style=\"color: rgb(0, 187, 0)\"><span class=\"ansi-green-fg\">8488.84892</span></span>\n",
       "<span style=\"color: rgb(0, 187, 187)\"><span class=\"ansi-cyan-fg\">trueLiteral</span></span>: <span style=\"color: rgb(0, 187, 0)\"><span class=\"ansi-green-fg\">Boolean</span></span> = <span style=\"color: rgb(0, 187, 0)\"><span class=\"ansi-green-fg\">true</span></span>\n",
       "<span style=\"color: rgb(0, 187, 187)\"><span class=\"ansi-cyan-fg\">falseLiteral</span></span>: <span style=\"color: rgb(0, 187, 0)\"><span class=\"ansi-green-fg\">Boolean</span></span> = <span style=\"color: rgb(0, 187, 0)\"><span class=\"ansi-green-fg\">false</span></span>\n",
       "<span style=\"color: rgb(0, 187, 187)\"><span class=\"ansi-cyan-fg\">charLiteral</span></span>: <span style=\"color: rgb(0, 187, 0)\"><span class=\"ansi-green-fg\">Char</span></span> = <span style=\"color: rgb(0, 187, 0)\"><span class=\"ansi-green-fg\">'T'</span></span>\n",
       "<span style=\"color: rgb(0, 187, 187)\"><span class=\"ansi-cyan-fg\">singleLineString</span></span>: <span style=\"color: rgb(0, 187, 0)\"><span class=\"ansi-green-fg\">String</span></span> = <span style=\"color: rgb(0, 187, 0)\"><span class=\"ansi-green-fg\">&quot;Hi Scala&quot;</span></span>\n",
       "<span style=\"color: rgb(0, 187, 187)\"><span class=\"ansi-cyan-fg\">multiLineString</span></span>: <span style=\"color: rgb(0, 187, 0)\"><span class=\"ansi-green-fg\">String</span></span> = <span style=\"color: rgb(0, 187, 0)\"><span class=\"ansi-green-fg\">&quot;&quot;&quot;Hi Hello\n",
       "                                Scala&quot;&quot;&quot;</span></span>\n",
       "<span style=\"color: rgb(0, 187, 187)\"><span class=\"ansi-cyan-fg\">symbolLiteral</span></span>: <span style=\"color: rgb(0, 187, 0)\"><span class=\"ansi-green-fg\">Symbol</span></span> = <span style=\"color: rgb(0, 187, 0)\"><span class=\"ansi-green-fg\">'mySymbol</span></span>\n",
       "<span style=\"color: rgb(0, 187, 187)\"><span class=\"ansi-cyan-fg\">nullLiteral</span></span>: <span style=\"color: rgb(0, 187, 0)\"><span class=\"ansi-green-fg\">String</span></span> = <span style=\"color: rgb(0, 187, 0)\"><span class=\"ansi-green-fg\">null</span></span>\n",
       "<span style=\"color: rgb(0, 187, 187)\"><span class=\"ansi-cyan-fg\">immutableVar</span></span>: <span style=\"color: rgb(0, 187, 0)\"><span class=\"ansi-green-fg\">String</span></span> = <span style=\"color: rgb(0, 187, 0)\"><span class=\"ansi-green-fg\">&quot;Immutable&quot;</span></span>\n",
       "<span style=\"color: rgb(0, 187, 187)\"><span class=\"ansi-cyan-fg\">mutableVar</span></span>: <span style=\"color: rgb(0, 187, 0)\"><span class=\"ansi-green-fg\">String</span></span> = <span style=\"color: rgb(0, 187, 0)\"><span class=\"ansi-green-fg\">&quot;SomeOtherValue&quot;</span></span>\n",
       "<span style=\"color: rgb(0, 187, 187)\"><span class=\"ansi-cyan-fg\">lazyVal</span></span>: <span style=\"color: rgb(0, 187, 0)\"><span class=\"ansi-green-fg\">Int</span></span> = <span style=\"color: white\"><span class=\"ansi-white-fg\">[lazy]</span></span></code></pre>\n",
       "</div>"
      ],
      "text/plain": [
       "\u001b[36mintLiteral\u001b[39m: \u001b[32mInt\u001b[39m = \u001b[32m6747\u001b[39m\n",
       "\u001b[36mlongLiteral\u001b[39m: \u001b[32mLong\u001b[39m = \u001b[32m758939932L\u001b[39m\n",
       "\u001b[36mfloatLiteral\u001b[39m: \u001b[32mFloat\u001b[39m = \u001b[32m773.43F\u001b[39m\n",
       "\u001b[36mdoubleLiteral\u001b[39m: \u001b[32mDouble\u001b[39m = \u001b[32m8488.84892\u001b[39m\n",
       "\u001b[36mtrueLiteral\u001b[39m: \u001b[32mBoolean\u001b[39m = \u001b[32mtrue\u001b[39m\n",
       "\u001b[36mfalseLiteral\u001b[39m: \u001b[32mBoolean\u001b[39m = \u001b[32mfalse\u001b[39m\n",
       "\u001b[36mcharLiteral\u001b[39m: \u001b[32mChar\u001b[39m = \u001b[32m'T'\u001b[39m\n",
       "\u001b[36msingleLineString\u001b[39m: \u001b[32mString\u001b[39m = \u001b[32m\"Hi Scala\"\u001b[39m\n",
       "\u001b[36mmultiLineString\u001b[39m: \u001b[32mString\u001b[39m = \u001b[32m\"\"\"Hi Hello\n",
       "                                Scala\"\"\"\u001b[39m\n",
       "\u001b[36msymbolLiteral\u001b[39m: \u001b[32mSymbol\u001b[39m = \u001b[32m'mySymbol\u001b[39m\n",
       "\u001b[36mnullLiteral\u001b[39m: \u001b[32mString\u001b[39m = \u001b[32mnull\u001b[39m\n",
       "\u001b[36mimmutableVar\u001b[39m: \u001b[32mString\u001b[39m = \u001b[32m\"Immutable\"\u001b[39m\n",
       "\u001b[36mmutableVar\u001b[39m: \u001b[32mString\u001b[39m = \u001b[32m\"SomeOtherValue\"\u001b[39m\n",
       "\u001b[36mlazyVal\u001b[39m: \u001b[32mInt\u001b[39m = \u001b[37m[lazy]\u001b[39m"
      ]
     },
     "metadata": {},
     "output_type": "display_data"
    }
   ],
   "source": [
    "// Types of Literals\n",
    "\n",
    "val intLiteral: Int = 6747\n",
    "val longLiteral: Long = 758939932L\n",
    "\n",
    "val floatLiteral: Float = 773.43f\n",
    "val doubleLiteral: Double = 8488.84892\n",
    "\n",
    "val trueLiteral: Boolean = true\n",
    "val falseLiteral: Boolean = false\n",
    "\n",
    "val charLiteral: Char = 'T'\n",
    "\n",
    "val singleLineString: String = \"Hi Scala\"\n",
    "val multiLineString: String = \"\"\"Hi Hello\n",
    "                                Scala\"\"\"\n",
    "\n",
    "val symbolLiteral: Symbol = Symbol(\"mySymbol\") // used to represent identifiers or unique labels\n",
    "val nullLiteral: String = null\n",
    "val unitLiteral: Unit = ()\n",
    "\n",
    "// Types of variables\n",
    "\n",
    "val immutableVar: String = \"Immutable\" // once assigned, cannot be changed\n",
    "//immutableVar = \"SomeOtherValue\"  reassignment error\n",
    "var mutableVar: String = \"Mutable\" // can be changed\n",
    "mutableVar = \"SomeOtherValue\"\n",
    "\n",
    "lazy val lazyVal: Int = {   // evaluated only when accessed, useful for costly operations\n",
    "    println(\"Executing...\")\n",
    "    434\n",
    "}"
   ]
  }
 ],
 "metadata": {
  "kernelspec": {
   "display_name": "Scala",
   "language": "scala",
   "name": "scala"
  },
  "language_info": {
   "codemirror_mode": "text/x-scala",
   "file_extension": ".sc",
   "mimetype": "text/x-scala",
   "name": "scala",
   "nbconvert_exporter": "script",
   "version": "2.13.14"
  }
 },
 "nbformat": 4,
 "nbformat_minor": 2
}
