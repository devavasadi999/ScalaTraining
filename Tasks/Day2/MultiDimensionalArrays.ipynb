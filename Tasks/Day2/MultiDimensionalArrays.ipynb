{
 "cells": [
  {
   "cell_type": "markdown",
   "metadata": {},
   "source": [
    "### Multi Dimensional Arrays\n",
    "* Creation\n",
    "* Access and Modification\n",
    "* Looping\n",
    "* Common Operations\n",
    "* Conversion"
   ]
  },
  {
   "cell_type": "code",
   "execution_count": 5,
   "metadata": {},
   "outputs": [
    {
     "name": "stdout",
     "output_type": "stream",
     "text": [
      "0, 0\n",
      "0, 0\n",
      "\n",
      "0, 0, 0, 0, 0, 0, 0, 0\n",
      "1, 2, 3, 4\n",
      "0\n",
      "73\n",
      "0 0 0 0 \n",
      "0, 0\n",
      "0, 0\n",
      "0, 73\n",
      "0, 0\n",
      "21, 21, 21, 21\n",
      "73\n",
      "73 0\n",
      "1, 3, 2, 4\n",
      "List(List(0, 0), List(0, 0))\n",
      "0, 0, 0, 0, 0, 73, 0, 0\n"
     ]
    },
    {
     "data": {
      "text/plain": [
       "\u001b[36marray2d\u001b[39m: \u001b[32mArray\u001b[39m[\u001b[32mArray\u001b[39m[\u001b[32mInt\u001b[39m]] = \u001b[33mArray\u001b[39m(\u001b[33mArray\u001b[39m(\u001b[32m0\u001b[39m, \u001b[32m0\u001b[39m), \u001b[33mArray\u001b[39m(\u001b[32m0\u001b[39m, \u001b[32m0\u001b[39m))\n",
       "\u001b[36marray3d\u001b[39m: \u001b[32mArray\u001b[39m[\u001b[32mArray\u001b[39m[\u001b[32mArray\u001b[39m[\u001b[32mInt\u001b[39m]]] = \u001b[33mArray\u001b[39m(\n",
       "  \u001b[33mArray\u001b[39m(\u001b[33mArray\u001b[39m(\u001b[32m0\u001b[39m, \u001b[32m0\u001b[39m), \u001b[33mArray\u001b[39m(\u001b[32m0\u001b[39m, \u001b[32m0\u001b[39m)),\n",
       "  \u001b[33mArray\u001b[39m(\u001b[33mArray\u001b[39m(\u001b[32m0\u001b[39m, \u001b[32m73\u001b[39m), \u001b[33mArray\u001b[39m(\u001b[32m0\u001b[39m, \u001b[32m0\u001b[39m))\n",
       ")"
      ]
     },
     "execution_count": 5,
     "metadata": {},
     "output_type": "execute_result"
    }
   ],
   "source": [
    "// Creation\n",
    "\n",
    "// 2D array\n",
    "val array2d = Array.ofDim[Int](2, 2)\n",
    "array2d.foreach(row => println(row.mkString(\", \")))\n",
    "println()\n",
    "\n",
    "// 3D array\n",
    "val array3d = Array.ofDim[Int](2, 2, 2)\n",
    "println(array3d.flatten.flatten.mkString(\", \"))\n",
    "\n",
    "// 2D array initialization\n",
    "println(Array(Array(1,2), Array(3, 4)).flatten.mkString(\", \"))\n",
    "\n",
    "// Accessing elements\n",
    "\n",
    "println(array2d(1)(1))\n",
    "\n",
    "// Modifying elements\n",
    "\n",
    "array3d(1)(0)(1) = 73\n",
    "println(array3d(1)(0)(1))\n",
    "\n",
    "// Looping\n",
    "\n",
    "// Using for loop\n",
    "for (i <- array2d.indices; j <- array2d(i).indices) {\n",
    "    print(s\"${array2d(i)(j)} \")\n",
    "}\n",
    "println()\n",
    "\n",
    "// Using for each\n",
    "array3d.foreach(array2d => array2d.foreach(array1d => println(array1d.mkString(\", \"))))\n",
    "\n",
    "// Common operations\n",
    "\n",
    "// Filling array\n",
    "println(Array.fill(2, 2)(21).flatten.mkString(\", \"))\n",
    "\n",
    "// Summing elements\n",
    "println(array3d.flatten.flatten.sum)\n",
    "\n",
    "// Maximum and Minimum\n",
    "println(s\"${array3d.flatten.flatten.max} ${array3d.flatten.flatten.min}\")\n",
    "\n",
    "// Transpose of 2D array\n",
    "println(Array(Array(1, 2), Array(3, 4)).transpose.flatten.mkString(\", \"))\n",
    "\n",
    "// Conversion\n",
    "\n",
    "// 2D array to list of lists\n",
    "println(array2d.map(_.toList).toList)\n",
    "\n",
    "// Flattening\n",
    "println(array3d.flatten.flatten.mkString(\", \"))"
   ]
  }
 ],
 "metadata": {
  "kernelspec": {
   "display_name": "Scala",
   "language": "scala",
   "name": "scala"
  },
  "language_info": {
   "codemirror_mode": "text/x-scala",
   "file_extension": ".sc",
   "mimetype": "text/x-scala",
   "name": "scala",
   "nbconvert_exporter": "script",
   "version": "2.13.14"
  }
 },
 "nbformat": 4,
 "nbformat_minor": 2
}
