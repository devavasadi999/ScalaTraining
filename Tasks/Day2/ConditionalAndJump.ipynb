{
 "cells": [
  {
   "cell_type": "markdown",
   "metadata": {},
   "source": [
    "### Conditional and Jump Statements\n",
    "\n",
    "* If Statement\n",
    "* If Else\n",
    "* If Else-If Else Ladder\n",
    "* If as expression\n",
    "* Match statement\n",
    "* Match as expression\n",
    "* return statement\n",
    "* try-catch-finally for Exception Handling\n",
    "* break method"
   ]
  },
  {
   "cell_type": "code",
   "execution_count": 3,
   "metadata": {},
   "outputs": [
    {
     "name": "stdout",
     "output_type": "stream",
     "text": [
      "Number is 10\n",
      "Number is 10\n",
      "Number is 10\n",
      "Number is 10\n",
      "Number is 10\n",
      "Number is 10\n",
      "20\n",
      "Division by zero not allowed\n",
      "Finally block will always execute\n",
      "1 2 3 "
     ]
    },
    {
     "data": {
      "text/plain": [
       "\u001b[36mnum\u001b[39m: \u001b[32mInt\u001b[39m = \u001b[32m10\u001b[39m\n",
       "\u001b[36mresult\u001b[39m: \u001b[32mString\u001b[39m = \u001b[32m\"Number is 10\"\u001b[39m\n",
       "\u001b[36mmatchResult\u001b[39m: \u001b[32mString\u001b[39m = \u001b[32m\"Number is 10\"\u001b[39m\n",
       "defined \u001b[32mfunction\u001b[39m \u001b[36mmultiply\u001b[39m\n",
       "\u001b[32mimport \u001b[39m\u001b[36mscala.util.control.Breaks._\u001b[39m"
      ]
     },
     "execution_count": 3,
     "metadata": {},
     "output_type": "execute_result"
    }
   ],
   "source": [
    "//If statement\n",
    "val num: Int=10\n",
    "\n",
    "if(num == 10){\n",
    "    println(\"Number is 10\")\n",
    "}\n",
    "\n",
    "//If else statement\n",
    "\n",
    "if(num == 10){\n",
    "    println(\"Number is 10\")\n",
    "}else{\n",
    "    println(\"Number is not 10\")\n",
    "}\n",
    "\n",
    "//If else-if else ladder\n",
    "\n",
    "if(num == 10){\n",
    "    println(\"Number is 10\")\n",
    "} else if (num == 20){\n",
    "    println(\"Number is 20\")\n",
    "} else {\n",
    "    println(\"Number is something else\")\n",
    "}\n",
    "\n",
    "//If as expression\n",
    "\n",
    "val result: String = if(num == 10) \"Number is 10\" else \"Number is something else\"\n",
    "println(result)\n",
    "\n",
    "//match statement\n",
    "\n",
    "num match {\n",
    "    case 10 => println(\"Number is 10\")\n",
    "    case 20 => println(\"Number is 20\")\n",
    "    case _ => println(\"Number is something else\")\n",
    "}\n",
    "\n",
    "//match as expression\n",
    "\n",
    "val matchResult: String = num match {\n",
    "    case 10 => \"Number is 10\"\n",
    "    case 20 => \"Number is 20\"\n",
    "    case _ => \"Number is something else\"\n",
    "}\n",
    "println(matchResult)\n",
    "\n",
    "//return statement\n",
    "\n",
    "def multiply(num1: Int, num2: Int): Int = {\n",
    "    return num1 * num2\n",
    "}\n",
    "println(multiply(4,5))\n",
    "\n",
    "//try-catch-finally statement\n",
    "\n",
    "try {\n",
    "    val result = 89/0\n",
    "} catch {\n",
    "    case e: ArithmeticException => println(\"Division by zero not allowed\")\n",
    "} finally {\n",
    "    println(\"Finally block will always execute\")\n",
    "}\n",
    "\n",
    "// break method\n",
    "\n",
    "import scala.util.control.Breaks._\n",
    "\n",
    "breakable {\n",
    "    for (i <- 1 to 5) {\n",
    "        print(s\"$i \")\n",
    "\n",
    "        if (i > 2)\n",
    "            break()\n",
    "    }\n",
    "}"
   ]
  }
 ],
 "metadata": {
  "kernelspec": {
   "display_name": "Scala",
   "language": "scala",
   "name": "scala"
  },
  "language_info": {
   "codemirror_mode": "text/x-scala",
   "file_extension": ".sc",
   "mimetype": "text/x-scala",
   "name": "scala",
   "nbconvert_exporter": "script",
   "version": "2.13.14"
  }
 },
 "nbformat": 4,
 "nbformat_minor": 2
}
