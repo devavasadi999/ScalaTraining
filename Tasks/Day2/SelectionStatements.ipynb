{
 "cells": [
  {
   "cell_type": "markdown",
   "metadata": {},
   "source": [
    "### Selection Statements\n",
    "* Basic match statement\n",
    "* match as expression\n",
    "* pattern matching on types\n",
    "* matching complex patterns"
   ]
  },
  {
   "cell_type": "code",
   "execution_count": 7,
   "metadata": {},
   "outputs": [
    {
     "name": "stdout",
     "output_type": "stream",
     "text": [
      "December month\n",
      "January or December month\n",
      "December month\n",
      "19\n"
     ]
    },
    {
     "data": {
      "text/plain": [
       "\u001b[36mmonth\u001b[39m: \u001b[32mAny\u001b[39m = \u001b[32m\"December\"\u001b[39m\n",
       "\u001b[36mtuple\u001b[39m: (\u001b[32mInt\u001b[39m, \u001b[32mString\u001b[39m) = (\u001b[32m19\u001b[39m, \u001b[32m\"January\"\u001b[39m)"
      ]
     },
     "execution_count": 7,
     "metadata": {},
     "output_type": "execute_result"
    }
   ],
   "source": [
    "// Basic match statement\n",
    "\n",
    "val month: Any = \"December\"\n",
    "month match {\n",
    "      case \"December\" => println(\"December month\")\n",
    "      case _ => println(\"Some other month\")\n",
    "}\n",
    "\n",
    "// match as expression\n",
    "\n",
    "println(month match {\n",
    "    case \"January\" | \"December\" => \"January or December month\"\n",
    "    case _ => \"Some other month\"\n",
    "})\n",
    "\n",
    "// pattern matching on types\n",
    "\n",
    "println(month match {\n",
    "    case i: Int => \"Month is integer\"\n",
    "    case month: String => s\"$month month\"\n",
    "    case _ => \"Some other type\"\n",
    "})\n",
    "\n",
    "// matching complex patterns\n",
    "\n",
    "val tuple = (19, \"January\")\n",
    "tuple match {\n",
    "    case (date: Int, \"January\") => println(s\"$date\")\n",
    "    case (19, month: String) => println(s\"$month\")\n",
    "}"
   ]
  }
 ],
 "metadata": {
  "kernelspec": {
   "display_name": "Scala",
   "language": "scala",
   "name": "scala"
  },
  "language_info": {
   "codemirror_mode": "text/x-scala",
   "file_extension": ".sc",
   "mimetype": "text/x-scala",
   "name": "scala",
   "nbconvert_exporter": "script",
   "version": "2.13.14"
  }
 },
 "nbformat": 4,
 "nbformat_minor": 2
}
