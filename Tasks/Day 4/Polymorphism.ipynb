{
 "cells": [
  {
   "cell_type": "markdown",
   "metadata": {},
   "source": [
    "### Polymorphism\n",
    "* Method overloading -- defining multiple methods with same name and different parameter lists"
   ]
  },
  {
   "cell_type": "code",
   "execution_count": 1,
   "metadata": {},
   "outputs": [
    {
     "name": "stdout",
     "output_type": "stream",
     "text": [
      "13\n",
      "7\n",
      "12\n"
     ]
    },
    {
     "data": {
      "text/plain": [
       "defined \u001b[32mclass\u001b[39m \u001b[36mCalculator\u001b[39m\n",
       "\u001b[36mc\u001b[39m: \u001b[32mCalculator\u001b[39m = ammonite.$sess.cmd1$Helper$Calculator@449f1151"
      ]
     },
     "execution_count": 1,
     "metadata": {},
     "output_type": "execute_result"
    },
    {
     "ename": "",
     "evalue": "",
     "output_type": "error",
     "traceback": [
      "\u001b[1;31mThe Kernel crashed while executing code in the current cell or a previous cell. \n",
      "\u001b[1;31mPlease review the code in the cell(s) to identify a possible cause of the failure. \n",
      "\u001b[1;31mClick <a href='https://aka.ms/vscodeJupyterKernelCrash'>here</a> for more info. \n",
      "\u001b[1;31mView Jupyter <a href='command:jupyter.viewOutput'>log</a> for further details."
     ]
    }
   ],
   "source": [
    "class Calculator {\n",
    "    //Overloaded method with one parameter\n",
    "    def add(a: Int): Int = a + 10\n",
    "\n",
    "    //Overloaded method with two parameters\n",
    "    def add(a: Int, b: Int): Int = a+b\n",
    "\n",
    "    //Overloaded method with three parameters\n",
    "    def add(a: Int, b: Int, c: Int) = a+b+c\n",
    "}\n",
    "\n",
    "val c = new Calculator()\n",
    "println(c.add(3))\n",
    "println(c.add(3,4))\n",
    "println(c.add(3,4,5))"
   ]
  },
  {
   "cell_type": "markdown",
   "metadata": {},
   "source": [
    "* Method overriding -- providing implementation for a method that is already defined in parent class"
   ]
  },
  {
   "cell_type": "code",
   "execution_count": 1,
   "metadata": {},
   "outputs": [
    {
     "name": "stdout",
     "output_type": "stream",
     "text": [
      "Dog..\n",
      "Cat..\n"
     ]
    },
    {
     "data": {
      "text/plain": [
       "defined \u001b[32mclass\u001b[39m \u001b[36mAnimal\u001b[39m\n",
       "defined \u001b[32mclass\u001b[39m \u001b[36mDog\u001b[39m\n",
       "defined \u001b[32mclass\u001b[39m \u001b[36mCat\u001b[39m\n",
       "\u001b[36manimals\u001b[39m: \u001b[32mList\u001b[39m[\u001b[32mAnimal\u001b[39m] = \u001b[33mList\u001b[39m(\n",
       "  ammonite.$sess.cmd1$Helper$Dog@588c47b0,\n",
       "  ammonite.$sess.cmd1$Helper$Cat@f2ad718\n",
       ")"
      ]
     },
     "execution_count": 1,
     "metadata": {},
     "output_type": "execute_result"
    }
   ],
   "source": [
    "class Animal {\n",
    "    // method to be overridden\n",
    "    def sound(): String = \"Default Sound\"\n",
    "}\n",
    "\n",
    "class Dog extends Animal {\n",
    "    // Override method in subclass\n",
    "    override def sound(): String  =  \"Dog..\"\n",
    "}\n",
    "\n",
    "class Cat extends Animal {\n",
    "    // Override method in subclass\n",
    "    override def sound(): String  = \"Cat..\"\n",
    "}\n",
    "\n",
    "//Run time polymorphism\n",
    "val animals: List[Animal] =  List(new Dog(), new Cat())\n",
    "animals.foreach(animal => println(animal.sound()))"
   ]
  },
  {
   "cell_type": "markdown",
   "metadata": {},
   "source": [
    "* methods with default parameters -- must be provided from right to left which will be used when a parameter is omitted while calling\n",
    "-- default parameters can simplify overloading instead of creating multiple methods"
   ]
  },
  {
   "cell_type": "code",
   "execution_count": 1,
   "metadata": {},
   "outputs": [
    {
     "name": "stdout",
     "output_type": "stream",
     "text": [
      "Hi! Alice\n",
      "Hello!!! Alice\n",
      "Hello!!! Bob\n"
     ]
    },
    {
     "data": {
      "text/plain": [
       "defined \u001b[32mclass\u001b[39m \u001b[36mGreeter\u001b[39m\n",
       "\u001b[36mgreeter\u001b[39m: \u001b[32mGreeter\u001b[39m = ammonite.$sess.cmd1$Helper$Greeter@56ea848a"
      ]
     },
     "execution_count": 1,
     "metadata": {},
     "output_type": "execute_result"
    }
   ],
   "source": [
    "class Greeter {\n",
    "    // method with default parameters\n",
    "    def greet(name: String = \"Bob\", greeting: String = \"Hello!!!\"): String = s\"$greeting $name\"\n",
    "}\n",
    "\n",
    "val greeter = new Greeter()\n",
    "println(greeter.greet(\"Alice\", \"Hi!\"))\n",
    "println(greeter.greet(\"Alice\"))\n",
    "println(greeter.greet())"
   ]
  },
  {
   "cell_type": "markdown",
   "metadata": {},
   "source": [
    "* #### methods with variable number of parameters\n",
    "    --- varargs parameter allows us to pass variable number of arguments using the * symbol"
   ]
  },
  {
   "cell_type": "code",
   "execution_count": 4,
   "metadata": {},
   "outputs": [
    {
     "name": "stdout",
     "output_type": "stream",
     "text": [
      "ArraySeq(Hi, Scala, Hello)\n",
      "Hi\n",
      "Scala\n",
      "Hello\n"
     ]
    },
    {
     "data": {
      "text/plain": [
       "defined \u001b[32mclass\u001b[39m \u001b[36mPrinter\u001b[39m\n",
       "\u001b[36mprinter\u001b[39m: \u001b[32mPrinter\u001b[39m = ammonite.$sess.cmd4$Helper$Printer@44c96b6c"
      ]
     },
     "execution_count": 4,
     "metadata": {},
     "output_type": "execute_result"
    }
   ],
   "source": [
    "class Printer {\n",
    "    // method that takes variable number of parameters (varargs)\n",
    "    def printAll(args: String*): Unit = {\n",
    "        println(args)\n",
    "        args.foreach(println)\n",
    "    }\n",
    "}\n",
    "\n",
    "val printer = new Printer()\n",
    "printer.printAll(\"Hi\", \"Scala\", \"Hello\")\n"
   ]
  }
 ],
 "metadata": {
  "kernelspec": {
   "display_name": "Scala",
   "language": "scala",
   "name": "scala"
  },
  "language_info": {
   "codemirror_mode": "text/x-scala",
   "file_extension": ".sc",
   "mimetype": "text/x-scala",
   "name": "scala",
   "nbconvert_exporter": "script",
   "version": "2.13.14"
  }
 },
 "nbformat": 4,
 "nbformat_minor": 2
}
