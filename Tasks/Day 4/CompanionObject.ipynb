{
 "cells": [
  {
   "cell_type": "markdown",
   "metadata": {},
   "source": [
    "### Companion Object\n",
    "\n",
    "Object with same name as class and used to hold shared or static like functionality"
   ]
  },
  {
   "cell_type": "code",
   "execution_count": 3,
   "metadata": {},
   "outputs": [
    {
     "name": "stdout",
     "output_type": "stream",
     "text": [
      "Bob 25\n",
      "Home Sapiens\n"
     ]
    },
    {
     "data": {
      "text/plain": [
       "defined \u001b[32mclass\u001b[39m \u001b[36mPerson\u001b[39m\n",
       "defined \u001b[32mobject\u001b[39m \u001b[36mPerson\u001b[39m\n",
       "\u001b[36molderPerson\u001b[39m: \u001b[32mPerson\u001b[39m = ammonite.$sess.cmd3$Helper$Person@3d19e10"
      ]
     },
     "execution_count": 3,
     "metadata": {},
     "output_type": "execute_result"
    }
   ],
   "source": [
    "class Person private (private val name: String, private val age: Int) {\n",
    "    // Instance specific behaviour\n",
    "    def greet(): String = s\"Hello, my name is $name and I am $age years old\"\n",
    "\n",
    "    def getName: String = name\n",
    "\n",
    "    def getAge: Int = age\n",
    "}\n",
    "\n",
    "object Person {\n",
    "    // Static property\n",
    "    var species: String = \"Home Sapiens\"\n",
    "\n",
    "    // apply method has special significance and can be used as factory method\n",
    "    def apply(name: String, age: Int): Person = new Person(name, age)\n",
    "\n",
    "    // Static method\n",
    "    def older(p1: Person, p2: Person): Person = if(p1.age > p2.age) p1 else p2 // static method\n",
    "}\n",
    "\n",
    "//apply method will be called for instantiation using below syntax\n",
    "val olderPerson = Person.older(Person(\"Rahul\", 23), Person(\"Bob\", 25)) // accessing static method using the class\n",
    "println(s\"${olderPerson.getName} ${olderPerson.getAge}\")\n",
    "println(Person.species)"
   ]
  },
  {
   "cell_type": "markdown",
   "metadata": {},
   "source": [
    "#### Companion Objects and Case Classes\n",
    "In case classes, Scala automatically creates a companion object with an apply method and other useful methods like unapply for pattern matching.\n",
    "This simplifies object creation and extraction."
   ]
  },
  {
   "cell_type": "code",
   "execution_count": 1,
   "metadata": {},
   "outputs": [
    {
     "name": "stdout",
     "output_type": "stream",
     "text": [
      "Name: Cat, Age: 5\n",
      "Cat\n",
      "Animal(Cat,5)\n"
     ]
    },
    {
     "data": {
      "text/plain": [
       "defined \u001b[32mclass\u001b[39m \u001b[36mAnimal\u001b[39m\n",
       "\u001b[36mcat\u001b[39m: \u001b[32mAnimal\u001b[39m = \u001b[33mAnimal\u001b[39m(name = \u001b[32m\"Cat\"\u001b[39m, age = \u001b[32m5\u001b[39m)"
      ]
     },
     "execution_count": 1,
     "metadata": {},
     "output_type": "execute_result"
    }
   ],
   "source": [
    "case class Animal (name: String, age: Int) {\n",
    "    def getName: String = name\n",
    "}\n",
    "\n",
    "val cat = Animal(\"Cat\", 5) //Automatically calls apply to create a new instance\n",
    "\n",
    "cat match {\n",
    "    case Animal(name, age) => println(s\"Name: $name, Age: $age\") // Uses unapply for pattern matching\n",
    "}\n",
    "\n",
    "println(cat.getName)\n",
    "println(cat)"
   ]
  }
 ],
 "metadata": {
  "kernelspec": {
   "display_name": "Scala",
   "language": "scala",
   "name": "scala"
  },
  "language_info": {
   "codemirror_mode": "text/x-scala",
   "file_extension": ".sc",
   "mimetype": "text/x-scala",
   "name": "scala",
   "nbconvert_exporter": "script",
   "version": "2.13.14"
  }
 },
 "nbformat": 4,
 "nbformat_minor": 2
}
