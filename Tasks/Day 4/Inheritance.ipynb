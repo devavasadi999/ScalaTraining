{
 "cells": [
  {
   "cell_type": "markdown",
   "metadata": {},
   "source": [
    "### Inheritance"
   ]
  },
  {
   "cell_type": "markdown",
   "metadata": {},
   "source": [
    "#### Super and Sub classes:\n",
    "* Super class is the parent class from which a sub class inherits properties and methods\n",
    "* Sub class is the derived class that inherits from super class and can modify its behaviour\n",
    "* Sub class uses extends keyword to inherit from a super class"
   ]
  },
  {
   "cell_type": "code",
   "execution_count": 2,
   "metadata": {},
   "outputs": [
    {
     "name": "stdout",
     "output_type": "stream",
     "text": [
      "Animal is eating...\n",
      "Dog is barking...\n",
      "Animal sound\n",
      "Woof\n"
     ]
    },
    {
     "data": {
      "text/plain": [
       "defined \u001b[32mclass\u001b[39m \u001b[36mAnimal\u001b[39m\n",
       "defined \u001b[32mclass\u001b[39m \u001b[36mDog\u001b[39m\n",
       "\u001b[36mdog\u001b[39m: \u001b[32mDog\u001b[39m = ammonite.$sess.cmd2$Helper$Dog@5bd18e33"
      ]
     },
     "execution_count": 2,
     "metadata": {},
     "output_type": "execute_result"
    }
   ],
   "source": [
    "class Animal {\n",
    "    def eat(): Unit  = println(\"Animal is eating...\")\n",
    "\n",
    "    def makeSound(): Unit = println(\"Animal sound\")\n",
    "}\n",
    "\n",
    "class Dog extends Animal {\n",
    "    def bark(): Unit = println(\"Dog is barking...\")\n",
    "\n",
    "    // override keyword is needed to override concrete methods\n",
    "    override def makeSound(): Unit = {\n",
    "        super.makeSound() // use super keyword to access parent class members\n",
    "        println(\"Woof\")\n",
    "    }\n",
    "}\n",
    "\n",
    "val dog = new Dog()\n",
    "dog.eat() // accessing inherited method from superclass\n",
    "dog.bark()\n",
    "dog.makeSound()"
   ]
  },
  {
   "cell_type": "markdown",
   "metadata": {},
   "source": [
    "#### Abstract classes and members\n",
    "\n",
    "* Abstract class -> class that cannot be instantiated on its own\n",
    "* Abstract members -> these are defined without an implementation"
   ]
  },
  {
   "cell_type": "code",
   "execution_count": 2,
   "metadata": {},
   "outputs": [
    {
     "name": "stdout",
     "output_type": "stream",
     "text": [
      "4 Dog sound..\n",
      "5 Cat sound..\n"
     ]
    },
    {
     "data": {
      "text/plain": [
       "defined \u001b[32mclass\u001b[39m \u001b[36mAnimal\u001b[39m\n",
       "defined \u001b[32mclass\u001b[39m \u001b[36mDog\u001b[39m\n",
       "defined \u001b[32mclass\u001b[39m \u001b[36mCat\u001b[39m\n",
       "\u001b[36manimals\u001b[39m: \u001b[32mList\u001b[39m[\u001b[32mAnimal\u001b[39m] = \u001b[33mList\u001b[39m(\n",
       "  ammonite.$sess.cmd2$Helper$Dog@495d601a,\n",
       "  ammonite.$sess.cmd2$Helper$Cat@344e48fe\n",
       ")"
      ]
     },
     "execution_count": 2,
     "metadata": {},
     "output_type": "execute_result"
    }
   ],
   "source": [
    "abstract class Animal {\n",
    "    // abstract method (no body)\n",
    "    def sound(): String\n",
    "\n",
    "    // abstract property\n",
    "    val rank: Int\n",
    "\n",
    "    // concrete method\n",
    "    def eat(): Unit = println(\"Eating\")\n",
    "\n",
    "    def getRank: Int = rank\n",
    "}\n",
    "\n",
    "class Dog extends Animal {\n",
    "    // implementing the abstract property\n",
    "    val rank: Int = 4\n",
    "\n",
    "    // Implementing the abstract method\n",
    "    override def sound(): String = \"Dog sound..\"\n",
    "}\n",
    "\n",
    "class Cat extends Animal {\n",
    "    // implementing the abstract property\n",
    "    val rank: Int = 5\n",
    "\n",
    "    // Implementing the abstract method\n",
    "    override def sound(): String = \"Cat sound..\"\n",
    "}\n",
    "\n",
    "val animals: List[Animal] = List(new Dog(), new Cat())\n",
    "animals.foreach(animal => println(s\"${animal.getRank} ${animal.sound()}\"))"
   ]
  }
 ],
 "metadata": {
  "kernelspec": {
   "display_name": "Scala",
   "language": "scala",
   "name": "scala"
  },
  "language_info": {
   "codemirror_mode": "text/x-scala",
   "file_extension": ".sc",
   "mimetype": "text/x-scala",
   "name": "scala",
   "nbconvert_exporter": "script",
   "version": "2.13.14"
  }
 },
 "nbformat": 4,
 "nbformat_minor": 2
}
