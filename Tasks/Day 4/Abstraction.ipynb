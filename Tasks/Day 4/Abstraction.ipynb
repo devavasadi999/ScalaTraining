{
 "cells": [
  {
   "cell_type": "markdown",
   "metadata": {},
   "source": [
    "### Abstraction\n",
    "#### Access Specifiers\n",
    "* private -> not accessible outside class\n",
    "* protected -> only accessible within same class and child classes\n",
    "* public -> accessible anywhere"
   ]
  },
  {
   "cell_type": "code",
   "execution_count": 2,
   "metadata": {},
   "outputs": [
    {
     "name": "stdout",
     "output_type": "stream",
     "text": [
      "0\n",
      "5\n",
      "Car starting...\n"
     ]
    },
    {
     "data": {
      "text/plain": [
       "defined \u001b[32mclass\u001b[39m \u001b[36mVehicle\u001b[39m\n",
       "defined \u001b[32mclass\u001b[39m \u001b[36mCar\u001b[39m\n",
       "\u001b[36mcar\u001b[39m: \u001b[32mCar\u001b[39m = ammonite.$sess.cmd2$Helper$Car@162a883a"
      ]
     },
     "execution_count": 2,
     "metadata": {},
     "output_type": "execute_result"
    }
   ],
   "source": [
    "abstract class Vehicle {\n",
    "    private var speed: Int = 0 // private variable not accessible outside vehicle\n",
    "\n",
    "    protected def sound(): String // protected abstract method\n",
    "\n",
    "    def start(): Unit // public abstract method\n",
    "\n",
    "    def getSpeed: Int = speed\n",
    "\n",
    "    def accelerate(amount: Int): Unit = { // public method\n",
    "        speed += amount\n",
    "    }\n",
    "}\n",
    "\n",
    "class Car extends Vehicle{\n",
    "    override protected def sound(): String = \"Car..\"\n",
    "\n",
    "    def start(): Unit = println(\"Car starting...\")\n",
    "}\n",
    "\n",
    "val car = new Car()\n",
    "//println(car.speed) //private property not accessible\n",
    "println(car.getSpeed)\n",
    "car.accelerate(5) // public method accessible\n",
    "println(car.getSpeed)\n",
    "//println(car.sound()) // protected method not accessible here\n",
    "car.start()\n"
   ]
  }
 ],
 "metadata": {
  "kernelspec": {
   "display_name": "Scala",
   "language": "scala",
   "name": "scala"
  },
  "language_info": {
   "codemirror_mode": "text/x-scala",
   "file_extension": ".sc",
   "mimetype": "text/x-scala",
   "name": "scala",
   "nbconvert_exporter": "script",
   "version": "2.13.14"
  }
 },
 "nbformat": 4,
 "nbformat_minor": 2
}
