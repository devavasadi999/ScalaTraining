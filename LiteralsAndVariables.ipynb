{
 "cells": [
  {
   "cell_type": "markdown",
   "metadata": {},
   "source": [
    "## Literals And Variables in Scala\n",
    "\n",
    "#### Types of Literals:\n",
    "* Integer Literals\n",
    "* Floating Point Literals\n",
    "* Boolean Literals\n",
    "* Character Literals\n",
    "* String Literals\n",
    "* Symbol Literals\n",
    "* Null Literal\n",
    "* Unit Literal\n",
    "\n",
    "#### Types of Variables:\n",
    "* Immutable Variable\n",
    "* Mutable Variable\n",
    "* Lazy Variable"
   ]
  },
  {
   "cell_type": "code",
   "execution_count": null,
   "metadata": {},
   "outputs": [],
   "source": [
    "val intLiteral: Int = 6747\n",
    "val longLiteral: Long = 758939932L\n",
    "\n",
    "val floatLiteral: Float = 773.43f\n",
    "val doubleLiteral: Double = 8488.84892\n",
    "\n",
    "val trueLiteral: Boolean = true\n",
    "val falseLiteral: Boolean = false\n",
    "\n",
    "val charLiteral: Char = 'T'\n",
    "\n",
    "val singleLineString: String = \"Hi Scala\"\n",
    "val multiLineString: String = \"\"\"Hi Hello\n",
    "                                Scala\"\"\"\n",
    "\n",
    "val symbolLiteral: Symbol = 'mySymbol\n",
    "val nullLiteral: String = null\n",
    "val unitLiteral: Unit = ()\n",
    "\n",
    "\n",
    "val immutableVar: String = \"Immutable\"\n",
    "//immutableVar = \"SomeOtherValue\"  reassignment error\n",
    "var mutableVar: String = \"Mutable\"\n",
    "mutableVar = \"SomeOtherValue\"\n",
    "\n",
    "lazy val lazyVal: Int = {\n",
    "    println(\"Executing...\")\n",
    "    434\n",
    "}"
   ]
  }
 ],
 "metadata": {
  "kernelspec": {
   "display_name": "Scala",
   "language": "scala",
   "name": "scala"
  },
  "language_info": {
   "codemirror_mode": "text/x-scala",
   "file_extension": ".sc",
   "mimetype": "text/x-scala",
   "name": "scala",
   "nbconvert_exporter": "script",
   "version": "2.13.14"
  }
 },
 "nbformat": 4,
 "nbformat_minor": 2
}
